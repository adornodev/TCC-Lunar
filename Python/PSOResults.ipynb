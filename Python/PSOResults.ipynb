{
 "cells": [
  {
   "cell_type": "markdown",
   "metadata": {},
   "source": [
    "# Imports"
   ]
  },
  {
   "cell_type": "code",
   "execution_count": 8,
   "metadata": {
    "collapsed": true
   },
   "outputs": [],
   "source": [
    "import os\n",
    "import re\n",
    "import csv\n",
    "from glob import glob"
   ]
  },
  {
   "cell_type": "markdown",
   "metadata": {},
   "source": [
    "# Utility Functions"
   ]
  },
  {
   "cell_type": "code",
   "execution_count": 9,
   "metadata": {
    "collapsed": true
   },
   "outputs": [],
   "source": [
    "def get_files_from_directories(directories, filetype = \"csv\", pattern = \"*.\"):\n",
    "    files      = []\n",
    "    _pattern   = pattern + filetype\n",
    "    try:\n",
    "        for directory in directories:\n",
    "            for dir,_,_ in os.walk(directory):\n",
    "                files.extend(glob(os.path.join(dir, _pattern)))\n",
    "    except:\n",
    "        print(\"\\Error to get files from directories. Do you do \\\"import os\\\" and \\\"from glob import glob\\\" ?\")\n",
    "        \n",
    "    return files"
   ]
  },
  {
   "cell_type": "code",
   "execution_count": 10,
   "metadata": {},
   "outputs": [
    {
     "name": "stdout",
     "output_type": "stream",
     "text": [
      "Writing complete\n"
     ]
    }
   ],
   "source": [
    "filetype = 'txt'\n",
    "\n",
    "# Get all files from specific directories\n",
    "files = get_files_from_directories(['./'], filetype = filetype)\n",
    "\n",
    "data  = [[\"PotHole\",\n",
    "          \"SpeedBump\",\n",
    "          \"Epochs\",\n",
    "          \"BatchSize\",\n",
    "          \"Neuronios_LSTM\",\n",
    "          \"Dropout\",\n",
    "          \"Acc\",\n",
    "          \"DD\",\n",
    "          \"DP\",\n",
    "          \"DS\",\n",
    "          \"PD\",\n",
    "          \"PP\",\n",
    "          \"PS\",\n",
    "          \"SD\",\n",
    "          \"SP\",\n",
    "          \"SS\"]]\n",
    "\n",
    "# Iterate over all output files\n",
    "for f in files:\n",
    "    p = re.compile('PH_(\\d{1})_SP_(\\d{1}).+ep(\\d{1,})_bs(\\d{1,})_ln(\\d{1,})_dp([^_]+)_acc([^_]+)_DD_(\\d{1,})_DP_(\\d{1,})_DS_(\\d{1,})_PD_(\\d{1,})_PP_(\\d{1,})_PS_(\\d{1,})_SD_(\\d{1,})_SP_(\\d{1,})_SS_(\\d{1,}).' + filetype)\n",
    "    m = p.match(f.split(\"\\\\\")[1])\n",
    "    \n",
    "    # Sanity check\n",
    "    if (len(m.groups()) != 16):\n",
    "        print('Error to process this file: ' + f)\n",
    "        continue\n",
    "        \n",
    "    pothole, speedbump, ep, bs, ln, drop, acc, dd, dp, ds, pd, pp, ps, sd, sp, ss = m.groups()\n",
    "    \n",
    "    dp  = round(float(dp),  2)\n",
    "    acc = round(float(acc), 2)\n",
    "    \n",
    "    data.append([pothole, speedbump, ep, bs, ln, drop, acc, dd, dp, ds, pd, pp, ps, sd, sp, ss])\n",
    "\n",
    "# Write CSV file\n",
    "with open('pso_analysis.csv', 'w') as f:\n",
    "    writer = csv.writer(f)\n",
    "    writer.writerows(data)\n",
    "     \n",
    "print(\"Writing complete\")"
   ]
  }
 ],
 "metadata": {
  "kernelspec": {
   "display_name": "Python 3",
   "language": "python",
   "name": "python3"
  },
  "language_info": {
   "codemirror_mode": {
    "name": "ipython",
    "version": 3
   },
   "file_extension": ".py",
   "mimetype": "text/x-python",
   "name": "python",
   "nbconvert_exporter": "python",
   "pygments_lexer": "ipython3",
   "version": "3.6.3"
  }
 },
 "nbformat": 4,
 "nbformat_minor": 2
}
