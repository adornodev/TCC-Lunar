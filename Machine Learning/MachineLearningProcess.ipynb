{
 "cells": [
  {
   "cell_type": "markdown",
   "metadata": {},
   "source": [
    "# Imports"
   ]
  },
  {
   "cell_type": "code",
   "execution_count": 3,
   "metadata": {},
   "outputs": [],
   "source": [
    "import boto3\n",
    "import json\n",
    "import numpy as np\n",
    "from keras.models import load_model"
   ]
  },
  {
   "cell_type": "markdown",
   "metadata": {},
   "source": [
    "# Utility Classes"
   ]
  },
  {
   "cell_type": "code",
   "execution_count": 4,
   "metadata": {
    "collapsed": true
   },
   "outputs": [],
   "source": [
    "class AWSUtilsLib():\n",
    "    \n",
    "    def __init__(self, aws_access_key, aws_secret_key, region_id = ''):\n",
    "        self.sqs                    = None\n",
    "        self.queue                  = None\n",
    "        self.acess_key              = aws_access_key\n",
    "        self.secret_key             = aws_secret_key\n",
    "        self.region                 = region_id\n",
    "        \n",
    "    #######################\n",
    "    #### SQS FUNCTIONS ####\n",
    "    #######################\n",
    "    def create_sqs_client(self, region_id = ''):\n",
    "        \n",
    "        if region_id:\n",
    "            self.region = region_id\n",
    "            \n",
    "        self.sqs = boto3.resource('sqs',\n",
    "             aws_access_key_id     = self.acess_key,\n",
    "             aws_secret_access_key = self.secret_key,\n",
    "             region_name           = self.region)\n",
    "\n",
    "    def create_queue_client(self, queuename):\n",
    "\n",
    "        # Get Queue URL\n",
    "        queue_url = self.sqs.get_queue_by_name(QueueName=queuename)\n",
    "\n",
    "        # Create Queue Resource\n",
    "        self.queue = sqs.Queue(queue_url.url)\n",
    "        \n",
    "\n",
    "        \n",
    "        \n"
   ]
  },
  {
   "cell_type": "markdown",
   "metadata": {},
   "source": [
    "# Code"
   ]
  },
  {
   "cell_type": "code",
   "execution_count": 21,
   "metadata": {},
   "outputs": [
    {
     "ename": "SyntaxError",
     "evalue": "'return' outside function (<ipython-input-21-abb634ce1f71>, line 2)",
     "output_type": "error",
     "traceback": [
      "\u001b[1;36m  File \u001b[1;32m\"<ipython-input-21-abb634ce1f71>\"\u001b[1;36m, line \u001b[1;32m2\u001b[0m\n\u001b[1;33m    return\u001b[0m\n\u001b[1;37m          ^\u001b[0m\n\u001b[1;31mSyntaxError\u001b[0m\u001b[1;31m:\u001b[0m 'return' outside function\n"
     ]
    }
   ],
   "source": [
    "# Get sqs and queue client\n",
    "aws = AWSUtilsLib('access','secret', 'us-east-1')\n",
    "aws.create_sqs_client()\n",
    "aws.create_queue_client('LUNAR_Processed')\n",
    "\n",
    "# Load machine learning model\n",
    "model = load_model('LUNAR_MachineLearningModel.h5')\n",
    "\n",
    "\n",
    "datas   = []\n",
    "samples = []\n",
    "counter = 0\n",
    "\n",
    "while True:\n",
    "    \n",
    "    # Get messages\n",
    "    messages = queue.receive_messages(MaxNumberOfMessages=10, WaitTimeSeconds=5, AttributeNames=['All'])\n",
    "    \n",
    "    # Iterate over messages\n",
    "    for message in messages:\n",
    "\n",
    "        # Trace msg\n",
    "        if counter % 60 == 0:\n",
    "            print ('Already processed {} messages'.format(counter))\n",
    "        \n",
    "        # Deserialize object\n",
    "        data = json.load(message.body)\n",
    "        \n",
    "        samples.append([data['Accelerometer_X'],\n",
    "                        data['Accelerometer_Y'],\n",
    "                        data['Accelerometer_Z']])\n",
    "        \n",
    "        if (len(samples) == 60):\n",
    "            \n",
    "            # Restructure the object to be readable by the saved model\n",
    "            restructured_obj = [samples]\n",
    "            \n",
    "            # Applies the machine learning model\n",
    "            y_pred = model.predict(restructured_obj)\n",
    "            output = np.argmax(y_pred, axis=1)[0]\n",
    "            \n",
    "            # Save the predicted output on record\n",
    "            data['Output'] = str(output)\n",
    "        \n",
    "            # Send to next queue (LUNAR_Processed)\n",
    "        \n",
    "        \n",
    "            # Delete messages\n",
    "            message.delete()\n",
    "            \n",
    "            samples = []\n",
    "        \n",
    "        counter += 1"
   ]
  }
 ],
 "metadata": {
  "kernelspec": {
   "display_name": "Python 3",
   "language": "python",
   "name": "python3"
  },
  "language_info": {
   "codemirror_mode": {
    "name": "ipython",
    "version": 3
   },
   "file_extension": ".py",
   "mimetype": "text/x-python",
   "name": "python",
   "nbconvert_exporter": "python",
   "pygments_lexer": "ipython3",
   "version": "3.6.3"
  }
 },
 "nbformat": 4,
 "nbformat_minor": 2
}
